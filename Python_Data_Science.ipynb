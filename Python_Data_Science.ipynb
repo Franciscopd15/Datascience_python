{
  "nbformat": 4,
  "nbformat_minor": 0,
  "metadata": {
    "colab": {
      "provenance": [],
      "include_colab_link": true
    },
    "kernelspec": {
      "name": "python3",
      "display_name": "Python 3"
    },
    "language_info": {
      "name": "python"
    }
  },
  "cells": [
    {
      "cell_type": "markdown",
      "metadata": {
        "id": "view-in-github",
        "colab_type": "text"
      },
      "source": [
        "<a href=\"https://colab.research.google.com/github/Franciscopd15/Datascience_python/blob/main/Python_Data_Science.ipynb\" target=\"_parent\"><img src=\"https://colab.research.google.com/assets/colab-badge.svg\" alt=\"Open In Colab\"/></a>"
      ]
    },
    {
      "cell_type": "markdown",
      "source": [
        "# Python para Data Science\n",
        "\n",
        "Notebook para el curso de Python para Data Science publicado en la plataforma de [Alura Latam](https://www.aluracursos.com/)"
      ],
      "metadata": {
        "id": "lQx6Mmv0OJyT"
      }
    },
    {
      "cell_type": "markdown",
      "source": [
        "# Introducción a Python\n",
        "¡Vamos a conocer Python, nuestro ambiente de estudio, y también generaremos nuestro primer código en este lenguaje!"
      ],
      "metadata": {
        "id": "7SiB6JIpYKmY"
      }
    },
    {
      "cell_type": "markdown",
      "source": [
        "## Google Colaboratory\n",
        "\n",
        "Ya aprendimos qué es [Python](https://www.python.org/) y ahora aprenderemos a usar nuestra herramienta de ejecución [Google Colaboratory](https://colab.research.google.com/) para programar en un notebook interactivo.\n",
        "\n",
        "Vamos a probar algunas funciones de este ambiente."
      ],
      "metadata": {
        "id": "Yugfb3fCOYY9"
      }
    },
    {
      "cell_type": "markdown",
      "source": [
        " **`>>> Usa esta celda para mover <<<`**"
      ],
      "metadata": {
        "id": "2iUHQsJasJAk"
      }
    },
    {
      "cell_type": "code",
      "source": [],
      "metadata": {
        "id": "o7jrX_iKhdkU"
      },
      "execution_count": null,
      "outputs": []
    },
    {
      "cell_type": "markdown",
      "source": [
        "## ¡Hola mundo!\n",
        "\n",
        "Vamos a conocer un poco más de cerca nuestro notebook. Para ello ejecutaremos nuestro primer comando en Python: [`print()`](https://docs.python.org/3/library/functions.html#print)"
      ],
      "metadata": {
        "id": "aLSFP2V7XTfe"
      }
    },
    {
      "cell_type": "code",
      "source": [
        "print(\"Escuela de Datos de Alura\")"
      ],
      "metadata": {
        "id": "0qZX8_ZQBYyk",
        "colab": {
          "base_uri": "https://localhost:8080/"
        },
        "outputId": "b28b9476-bde3-4c19-8ab4-bdc438686c4e"
      },
      "execution_count": null,
      "outputs": [
        {
          "output_type": "stream",
          "name": "stdout",
          "text": [
            "Escuela de Datos de Alura\n"
          ]
        }
      ]
    },
    {
      "cell_type": "code",
      "source": [
        "print(\"Nombre: Francisco\")"
      ],
      "metadata": {
        "colab": {
          "base_uri": "https://localhost:8080/"
        },
        "id": "DG5jfDmP--jM",
        "outputId": "8750a7fa-386b-4a0e-81fb-871f21b5f4d5"
      },
      "execution_count": null,
      "outputs": [
        {
          "output_type": "stream",
          "name": "stdout",
          "text": [
            "Nombre: Francisco\n"
          ]
        }
      ]
    },
    {
      "cell_type": "code",
      "source": [
        "print(15, 'Julio', 1998)"
      ],
      "metadata": {
        "colab": {
          "base_uri": "https://localhost:8080/"
        },
        "id": "Jj2kTg32_IgJ",
        "outputId": "e32cd97e-bda2-42a2-b34b-efec5e971980"
      },
      "execution_count": null,
      "outputs": [
        {
          "output_type": "stream",
          "name": "stdout",
          "text": [
            "15 Julio 1998\n"
          ]
        }
      ]
    },
    {
      "cell_type": "code",
      "source": [
        "print(\"Año Actual:\", 2025)"
      ],
      "metadata": {
        "colab": {
          "base_uri": "https://localhost:8080/"
        },
        "id": "U3BNEsEi_pQy",
        "outputId": "b4dd4d83-e78b-44f1-9335-1d63346d31f7"
      },
      "execution_count": null,
      "outputs": [
        {
          "output_type": "stream",
          "name": "stdout",
          "text": [
            "Año Actual: 2025\n"
          ]
        }
      ]
    },
    {
      "cell_type": "markdown",
      "source": [
        "# Manipulando los datos\n",
        "\n",
        "Vamos a aprender sobre las variables en Python, cómo declararlas y utilizarlas además de conocer otros comandos de este lenguaje. :D"
      ],
      "metadata": {
        "id": "iP8uWQmFYFRs"
      }
    },
    {
      "cell_type": "markdown",
      "source": [
        "## Variables\n",
        "\n",
        "En Data Science trabajamos con varios tipos de datos e informaciones, entonces es esencial saber cómo trabajar con las variables."
      ],
      "metadata": {
        "id": "sLNVmnTbag1Z"
      }
    },
    {
      "cell_type": "markdown",
      "source": [
        "Las variables en Python se crean cuando atribuimos un valor a ella.\n",
        "\n",
        "Para esto, colocamos el nombre de la variable, el signo de igual (`=`) y el valor que queremos atribuirle."
      ],
      "metadata": {
        "id": "lsCY0wahAbf6"
      }
    },
    {
      "cell_type": "code",
      "source": [],
      "metadata": {
        "id": "vsHh5buZADND"
      },
      "execution_count": null,
      "outputs": []
    },
    {
      "cell_type": "code",
      "source": [],
      "metadata": {
        "id": "sivPtqSjADQV"
      },
      "execution_count": null,
      "outputs": []
    },
    {
      "cell_type": "code",
      "source": [],
      "metadata": {
        "id": "JC8jO47wADlm"
      },
      "execution_count": null,
      "outputs": []
    },
    {
      "cell_type": "markdown",
      "source": [
        "Existen algunos tipos de nomes que **no** podemos definir para las variables:\n",
        "\n",
        "- **Nombres que comiencen con números**\n",
        "  - Ejemplos: `10_notas`, `2_nombre_casa`, etc.\n",
        "- **Palabras separadas por espacio**\n",
        "  - Ejemplos: `Nombre escuela`, `notas estudiantes`, etc.\n",
        "- **Nombres de funciones de Python**\n",
        "  - Ejemplos: `print`, `type`, etc."
      ],
      "metadata": {
        "id": "om2N0jHKAzwL"
      }
    },
    {
      "cell_type": "markdown",
      "source": [
        "> Las letras mayúsculas y minúsculas generarán diferentes variables. La variable `edad` es diferente de `Edad` que a su vez es diferente de `EDAD`:\n",
        "``` Python\n",
        "edad = 1\n",
        "Edad = 2\n",
        "EDAD = 3\n",
        "_edad = 4\n",
        "_edad_ = 5\n",
        "print(edad, Edad, EDAD, _edad, _edad_)\n",
        "1 2 3 4 5\n",
        "```"
      ],
      "metadata": {
        "id": "A19vY2GVMujB"
      }
    },
    {
      "cell_type": "markdown",
      "source": [
        "## Tipos de variables\n",
        "\n",
        "Cada variable contiene una clase específica con respecto al tipo de objeto al cual esta hace referencia. Estas clases serán diferentes de acuerdo con el tipo de dato que le sea atribuido a una variable.\n",
        "\n",
        "Para conocer la clase de cada elemento usamos la función [`type()`](https://docs.python.org/3/library/functions.html#type)"
      ],
      "metadata": {
        "id": "UqhzuBhBHsps"
      }
    },
    {
      "cell_type": "code",
      "source": [],
      "metadata": {
        "id": "J5a9t73A_-PX"
      },
      "execution_count": null,
      "outputs": []
    },
    {
      "cell_type": "code",
      "source": [],
      "metadata": {
        "id": "rqmO1ew-_-So"
      },
      "execution_count": null,
      "outputs": []
    },
    {
      "cell_type": "code",
      "source": [],
      "metadata": {
        "id": "xkrPMkeY_-cP"
      },
      "execution_count": null,
      "outputs": []
    },
    {
      "cell_type": "markdown",
      "source": [
        "En un conjunto de datos escolares podemos tener varios tipos de informaciones. Supongamos que tenemos acceso a la ficha de datos del alumno *Penélope Camacho*, cómo transformamos este nombre en variables de Python?\n",
        "\n",
        "#### Ficha:\n",
        "\n",
        "- Nombre: Penélope Camacho\n",
        "- Edad: 11 años\n",
        "- Promedio del semestre: 9,75\n",
        "- Situación de aprobación: Verdadera (aprobado)"
      ],
      "metadata": {
        "id": "O-FxDumfWu0C"
      }
    },
    {
      "cell_type": "markdown",
      "source": [
        "## Variables numéricas\n",
        "\n",
        "Entre los tipos de datos numéricos vamos a enfocarnos en los tipos `entero` y `float`."
      ],
      "metadata": {
        "id": "KFq_8Sxf-OG0"
      }
    },
    {
      "cell_type": "markdown",
      "source": [
        "Tenemos una tabla de información sobre los diversos cargos, cantidad de personas empleadas y el salario correspondiente:\n",
        "\n",
        "|Cargo | Cantidad | Salario|\n",
        "|---|---|---|\n",
        "|Vigilante | 5 | 300 |\n",
        "|Docente | 16| 500|\n",
        "|Coordinador| 2 |600|\n",
        "\n",
        "Necesitamos trabajar con estos datos para obtener:\n",
        "\n",
        "- La cantidad total de empleados;\n",
        "- La diferencia entre el salario más bajo y más alto; y\n",
        "- El promedio ponderado de los salarios de los empleados de la escuela."
      ],
      "metadata": {
        "id": "8_HYUbkVYdQY"
      }
    },
    {
      "cell_type": "code",
      "source": [],
      "metadata": {
        "id": "F_X-wxdm_5Ys"
      },
      "execution_count": null,
      "outputs": []
    },
    {
      "cell_type": "code",
      "source": [],
      "metadata": {
        "id": "gKmBbhII_5b9"
      },
      "execution_count": null,
      "outputs": []
    },
    {
      "cell_type": "code",
      "source": [],
      "metadata": {
        "id": "fIugsxNy_53j"
      },
      "execution_count": null,
      "outputs": []
    },
    {
      "cell_type": "markdown",
      "source": [
        "## Strings"
      ],
      "metadata": {
        "id": "yQy7b0ZWoD-P"
      }
    },
    {
      "cell_type": "markdown",
      "source": [
        "Strings hace referencia a un conjunto de caracteres formando un texto.\n",
        "\n",
        "Podemos crear Strings cuando atribuimos un dato a una variable entre comillas sencillas (`'`) o comillas dobles (`\"`)."
      ],
      "metadata": {
        "id": "vlo2-DXusv3s"
      }
    },
    {
      "cell_type": "code",
      "source": [],
      "metadata": {
        "id": "ityEWqvh_2wK"
      },
      "execution_count": null,
      "outputs": []
    },
    {
      "cell_type": "markdown",
      "source": [
        "Las variables textuales son objetos que poseen métodos que nos ayudan a formatear strings. Los métodos los podemos ejecutar al definir un objeto de acuerdo con la siguiente estructura:\n",
        "\n",
        "```\n",
        "objeto.metodo()\n",
        "```\n",
        "\n",
        "Existen métodos que no necesitan los `()`, siempre es una buena práctica verificar la documentación para cada caso."
      ],
      "metadata": {
        "id": "2e9UD_CCxqz_"
      }
    },
    {
      "cell_type": "markdown",
      "source": [
        "---\n",
        "**Situación:**\n",
        "\n",
        "Recibimos una variable con el nombre de una profesora de la escuela para añadirla a los registros. Sin embargo, necesitamos darle un tratamiento a este texto antes de insertarlo al sistema."
      ],
      "metadata": {
        "id": "p6aPmMGP4tf9"
      }
    },
    {
      "cell_type": "code",
      "source": [
        "texto = '  Micaela de los Sanyos '"
      ],
      "metadata": {
        "id": "icDWtYTjBO0n"
      },
      "execution_count": null,
      "outputs": []
    },
    {
      "cell_type": "markdown",
      "source": [
        "El objetivo final es que el nombre aparezca de la siguiente forma:\n",
        "\n",
        "```\n",
        "'MICAELA DE LOS SANTOS'\n",
        "```"
      ],
      "metadata": {
        "id": "Dg2ZXSZOGzjC"
      }
    },
    {
      "cell_type": "markdown",
      "source": [
        "### [`str.upper()` ](https://docs.python.org/3/library/stdtypes.html#str.upper)\n",
        "Convierte una string a mayúsculas."
      ],
      "metadata": {
        "id": "iVTAD8q702eN"
      }
    },
    {
      "cell_type": "code",
      "source": [],
      "metadata": {
        "id": "wMVshJrY_ZXh"
      },
      "execution_count": null,
      "outputs": []
    },
    {
      "cell_type": "markdown",
      "source": [
        "### [`str.lower()`](https://docs.python.org/3/library/stdtypes.html#str.lower)\n",
        "Convierte una string a minúsculas."
      ],
      "metadata": {
        "id": "hbDSBtMV1TpG"
      }
    },
    {
      "cell_type": "code",
      "source": [],
      "metadata": {
        "id": "px3yEeNH_YK4"
      },
      "execution_count": null,
      "outputs": []
    },
    {
      "cell_type": "markdown",
      "source": [
        "### [`str.strip()`](https://docs.python.org/3/library/stdtypes.html#str.strip)\n",
        "Elimina los espacios en blanco al inicio y al final de una string."
      ],
      "metadata": {
        "id": "kz47eWM11gii"
      }
    },
    {
      "cell_type": "code",
      "source": [],
      "metadata": {
        "id": "76dLgNa4_XAe"
      },
      "execution_count": null,
      "outputs": []
    },
    {
      "cell_type": "markdown",
      "source": [
        "### [`str.replace(antiguo, nuevo)`](https://docs.python.org/3/library/stdtypes.html#str.replace)\n",
        "\n",
        "Sustituye todas las ocurrencias del texto \"antiguo\" en la string por el  \"nuevo\"."
      ],
      "metadata": {
        "id": "m6notiyS1SCV"
      }
    },
    {
      "cell_type": "code",
      "source": [],
      "metadata": {
        "id": "PNXAixtE_V6R"
      },
      "execution_count": null,
      "outputs": []
    },
    {
      "cell_type": "markdown",
      "source": [
        "### Observaciones\n",
        "\n",
        "1. Los métodos devuelven una **tranformación**, no son ejecutados directamente sobre la variable donde está almacenado el texto.\n",
        "\n",
        "2. Adicionalmente, podemos acumular la ejecución de los métodos."
      ],
      "metadata": {
        "id": "zukvEjhG2Rcn"
      }
    },
    {
      "cell_type": "code",
      "source": [],
      "metadata": {
        "id": "JjkBRklr_T5n"
      },
      "execution_count": null,
      "outputs": []
    },
    {
      "cell_type": "markdown",
      "source": [
        "Para que la transformación se pueda ejecutar debemos atribuir la salida de las transformaciones a las variables"
      ],
      "metadata": {
        "id": "1KbwfVut2h6I"
      }
    },
    {
      "cell_type": "code",
      "source": [],
      "metadata": {
        "id": "ocPP-Jaj_SJI"
      },
      "execution_count": null,
      "outputs": []
    },
    {
      "cell_type": "code",
      "source": [],
      "metadata": {
        "id": "m1RvLGZZ_SP3"
      },
      "execution_count": null,
      "outputs": []
    },
    {
      "cell_type": "markdown",
      "source": [
        "## Capturando datos\n",
        "\n",
        "En algunas aplicaciones necesitamos capturar los valores del usuario de nuestro proyecto. En python, logramos capturar los datos del usuario a través del comando [`input()`](https://docs.python.org/3/library/functions.html#input).\n",
        "\n",
        "Para ejecutar la captura debemos atribuir el resultado de esta función a una variable."
      ],
      "metadata": {
        "id": "0h9Fh5G9kHCa"
      }
    },
    {
      "cell_type": "code",
      "source": [],
      "metadata": {
        "id": "zbH_9i3q_PdY"
      },
      "execution_count": null,
      "outputs": []
    },
    {
      "cell_type": "code",
      "source": [],
      "metadata": {
        "id": "JZy1Q9Tl_PgL"
      },
      "execution_count": null,
      "outputs": []
    },
    {
      "cell_type": "markdown",
      "source": [
        "La salida de este comando siempre será una *string*. Esto quiere decir que aunque capturemos un valor de variable numérica, este será de tipo string.\n",
        "\n",
        "Entonces, será necesario **convertir el resultado cuando no se desea utilizar el valor como tipo string**."
      ],
      "metadata": {
        "id": "7z7hcLCk_aCY"
      }
    },
    {
      "cell_type": "markdown",
      "source": [
        "Existen funciones para la conversión de valores:\n",
        "\n",
        "- Enteros: [`int(dato_para_conversion)`](https://docs.python.org/3/library/functions.html#int)\n",
        "- Coma flotante: [`float(dato_para_conversion)`](https://docs.python.org/3/library/functions.html#float)\n",
        "- String: [`str(dato_para_conversion)`](https://docs.python.org/3/library/functions.html#func-str)\n",
        "- Booleano: [`bool(dato_para_conversion)`](https://docs.python.org/3/library/functions.html#bool)"
      ],
      "metadata": {
        "id": "TOlegATj1Jfp"
      }
    },
    {
      "cell_type": "code",
      "source": [],
      "metadata": {
        "id": "M2ueeH6l_NMe"
      },
      "execution_count": null,
      "outputs": []
    },
    {
      "cell_type": "code",
      "source": [],
      "metadata": {
        "id": "xfWwuViK_NUn"
      },
      "execution_count": null,
      "outputs": []
    },
    {
      "cell_type": "code",
      "source": [],
      "metadata": {
        "id": "uFCHDyew_NZm"
      },
      "execution_count": null,
      "outputs": []
    },
    {
      "cell_type": "markdown",
      "source": [
        "Trataremos de representar mejor ahora el resultado de la transformación que obtuvimos. Nosotros podemos formatear y presentar nuestro resultado mezclando strings con valores no textuales.\n",
        "\n",
        "Para ello utilizamos la estructura de formatación `f` con strings."
      ],
      "metadata": {
        "id": "yNI2-XTbB3aS"
      }
    },
    {
      "cell_type": "code",
      "source": [
        "nombre = input(\"Ingresa tu nombre:\")\n",
        "edad = int(input(\"Ingresa tu edad:\"))\n",
        "altura = float(input(\"Ingresa tu altura:\"))\n",
        "\n",
        "print(f\"Hola {nombre}, tienes {edad} años y mides {altura} metros\")"
      ],
      "metadata": {
        "id": "keJjA5N9_K5i",
        "colab": {
          "base_uri": "https://localhost:8080/"
        },
        "outputId": "656484ec-dcca-4c39-8b9e-261d72edad1e"
      },
      "execution_count": null,
      "outputs": [
        {
          "output_type": "stream",
          "name": "stdout",
          "text": [
            "Ingresa tu nombre:Joel\n",
            "Ingresa tu edad:20\n",
            "Ingresa tu altura:1.75\n",
            "Hola Joel, tienes 20 años y mides 1.75 metros\n"
          ]
        }
      ]
    },
    {
      "cell_type": "code",
      "source": [
        "notaUno = int(input(\"Ingresa el primer número:\"))\n",
        "notaDos = int(input(\"Ingresa el segundo número:\"))\n",
        "notaTres = int(input(\"Ingresa el tercer número:\"))\n",
        "\n",
        "print(f\"El promedio de las notas es: {(notaUno + notaDos + notaTres)/3}\")"
      ],
      "metadata": {
        "id": "6NiFPYwZWN3L",
        "outputId": "f7652e06-8aba-45f4-a9b1-3b30348676c4",
        "colab": {
          "base_uri": "https://localhost:8080/"
        }
      },
      "execution_count": null,
      "outputs": [
        {
          "output_type": "stream",
          "name": "stdout",
          "text": [
            "Ingresa el primer número:9\n",
            "Ingresa el segundo número:8\n",
            "Ingresa el tercer número:10\n",
            "El promedio de las notas es: 9.0\n"
          ]
        }
      ]
    },
    {
      "cell_type": "code",
      "source": [
        "frase = input(\"Ingresa una frase: \")\n",
        "print(frase.replace(\"a\",\"@\"))"
      ],
      "metadata": {
        "id": "4wZxo-3rcAQe",
        "outputId": "0b1ecf49-df6f-403c-cb98-93ea8b4c9f68",
        "colab": {
          "base_uri": "https://localhost:8080/"
        }
      },
      "execution_count": null,
      "outputs": [
        {
          "output_type": "stream",
          "name": "stdout",
          "text": [
            "Ingresa una frase: tarantula\n",
            "t@r@ntul@\n"
          ]
        }
      ]
    },
    {
      "cell_type": "markdown",
      "source": [
        "# Estructuras condicionales"
      ],
      "metadata": {
        "id": "NwRaiHHHhhyl"
      }
    },
    {
      "cell_type": "code",
      "source": [
        "# Nota de aprobación es 7 a 10 == aprobacion >= 7\n",
        "# Nota de reprobación es menor a 7 == reprobación < 7"
      ],
      "metadata": {
        "id": "pa4gLncu-mvU"
      },
      "execution_count": null,
      "outputs": []
    },
    {
      "cell_type": "code",
      "source": [],
      "metadata": {
        "id": "_cWRmDiE-m4p"
      },
      "execution_count": null,
      "outputs": []
    },
    {
      "cell_type": "markdown",
      "source": [
        "## `IF` y `ELSE`\n",
        "\n",
        "Los comandos `if` y `else` son dos estructuras condicionales. El comando `if` ejecutará el bloque de comandos en caso de que la condición citada sea  **verdadera**. El comando `else` ejecutará el bloque de comandos en el caso de que la condicional de `if` sea **falsa**."
      ],
      "metadata": {
        "id": "qXZqg9aYEhAh"
      }
    },
    {
      "cell_type": "markdown",
      "source": [
        "El comando `if` es una palabra clave en Python que significa \"si\". Este se emplea para conformar la estructura condicional, que te permite verificar si una determinada condición es verdadera o falsa e, inmediatamente después, ejecute un bloque de código específico dependiendo del resultado de la verificación. La sintaxis para usar el comando `if` es:\n",
        "\n",
        "\n",
        "\n",
        "```\n",
        "if condicion:\n",
        "    # Realiza algo\n",
        "```\n",
        "\n"
      ],
      "metadata": {
        "id": "EIhlqHXd2Gil"
      }
    },
    {
      "cell_type": "code",
      "source": [],
      "metadata": {
        "id": "S2S6XAFz-czM"
      },
      "execution_count": null,
      "outputs": []
    },
    {
      "cell_type": "code",
      "source": [],
      "metadata": {
        "id": "YHkwMMyY-c1r"
      },
      "execution_count": null,
      "outputs": []
    },
    {
      "cell_type": "markdown",
      "source": [
        "Ya el comando `else` en Python se usa en junción con la palabra clave `if` para formar una estructura condicional. la sintaxis para usar el `else` es:\n",
        "\n",
        "```\n",
        "if condicion:\n",
        "  # codigo en caso de que sea verdad\n",
        "else:\n",
        "  # codigo en caso de que sea falso\n",
        "```\n",
        "\n",
        "el comando `else` se ejecuta cuando la condición verificada por el `if` es evaluada como `False`."
      ],
      "metadata": {
        "id": "27RW2v_sIKct"
      }
    },
    {
      "cell_type": "code",
      "source": [],
      "metadata": {
        "id": "ZTfNJd_f-aOq"
      },
      "execution_count": null,
      "outputs": []
    },
    {
      "cell_type": "code",
      "source": [],
      "metadata": {
        "id": "LPOb5MkV-btq"
      },
      "execution_count": null,
      "outputs": []
    },
    {
      "cell_type": "markdown",
      "source": [
        "---\n",
        "**Situación:**\n",
        "\n",
        "Recibiremos el promedio de la nota de los estudiantes y necesitamos de un algoritmo que ejecute el análisis y determine si el estudiante fue **Aprobado** o **Reprobado**, mostrando un mensaje del resultado. Para ser aprobado, el promedio necesita ser igual o superior a 7.0."
      ],
      "metadata": {
        "id": "BqORg85XX-Nl"
      }
    },
    {
      "cell_type": "code",
      "source": [],
      "metadata": {
        "id": "UukCN4AQ-YYW"
      },
      "execution_count": null,
      "outputs": []
    },
    {
      "cell_type": "code",
      "source": [],
      "metadata": {
        "id": "X0o8FW1H-YkA"
      },
      "execution_count": null,
      "outputs": []
    },
    {
      "cell_type": "markdown",
      "source": [
        "Ahora, nuestra institución educativa estableció que las personas que tengan el promedio entre 5.0 y 7.0 pueden participar del curso de **Recuperación** durante las vacaciones para lograr aprobar.\n",
        "\n",
        "Entonces podemos apoyarnos en un conjunto de `if`s para poder estructurar esta nueva condición."
      ],
      "metadata": {
        "id": "bD9O17HB6LUo"
      }
    },
    {
      "cell_type": "code",
      "source": [],
      "metadata": {
        "id": "G9cJ5O9--W52"
      },
      "execution_count": null,
      "outputs": []
    },
    {
      "cell_type": "code",
      "source": [],
      "metadata": {
        "id": "iU-pjoJt-W89"
      },
      "execution_count": null,
      "outputs": []
    },
    {
      "cell_type": "markdown",
      "source": [
        "Observa que en casos con 3 situaciones como este necesitamos definir bien nuestras condiciones. Pues, si realizamos una condición con `else` al final, este irá a considerar solamente la condición `if` inmediatamente anterior para generar la salida en caso de que el resultado de su operación lógica sea **falso** dando como resultado, dos o más ejecuciones.\n",
        "\n",
        "Por ejemplo:"
      ],
      "metadata": {
        "id": "D5e2mByjvycO"
      }
    },
    {
      "cell_type": "code",
      "source": [],
      "metadata": {
        "id": "C21JmOuK-VU8"
      },
      "execution_count": null,
      "outputs": []
    },
    {
      "cell_type": "code",
      "source": [],
      "metadata": {
        "id": "bHiVgnPs-Vlv"
      },
      "execution_count": null,
      "outputs": []
    },
    {
      "cell_type": "markdown",
      "source": [
        "## `ELIF`\n",
        "\n",
        "El comando `elif` es una palabra clave en Python que significa \"si no, si\" y lo podemos considerar una *contracción* entre `else` e `if`. Se utiliza en conjunto con la palabra clave `if` para formar una estructura condicional en cadena."
      ],
      "metadata": {
        "id": "04T5g-7h4zWx"
      }
    },
    {
      "cell_type": "markdown",
      "source": [
        "la sintaxis para utilizar el comando `elif` es:\n",
        "\n",
        "```\n",
        "if condicion1:\n",
        "    # Realiza algo\n",
        "elif condicion2:\n",
        "    # Realiza otra cosa\n",
        "elif condicion3:\n",
        "    # Realiza otra cosa\n",
        "else:\n",
        "    # Realiza algo diferente\n",
        "```\n",
        "\n",
        "El comando `elif` permite que puedas verificar varias condiciones en cadena, economizando espacio en tu código. Si la primera condición se evalúa como `False`, el interpretador de Python evaluará la próxima condición con el `elif`. Ello continuará hasta que una condición sea evaluada como `True` o hasta que el `else` sea alcazado. Si ninguna de las condiciones es evaluada como `True`, la ejecución del código del comando `else` será iniciada."
      ],
      "metadata": {
        "id": "rNBHr5mm1Lm6"
      }
    },
    {
      "cell_type": "markdown",
      "source": [
        "Vamos a emplear el mismo caso anterior:"
      ],
      "metadata": {
        "id": "MVoykFbB4bd4"
      }
    },
    {
      "cell_type": "code",
      "source": [],
      "metadata": {
        "id": "QFamB78s-TW_"
      },
      "execution_count": null,
      "outputs": []
    },
    {
      "cell_type": "code",
      "source": [],
      "metadata": {
        "id": "nuScbnHF-TfK"
      },
      "execution_count": null,
      "outputs": []
    },
    {
      "cell_type": "markdown",
      "source": [
        "## Operadores\n",
        "\n",
        "Durante la construcción de comandos a veces necesitamos de una elaboración mayor de la expresión condicional, necesitando que algunos operadores lógicos se encuentren integrados."
      ],
      "metadata": {
        "id": "Tf1wSOem6iwZ"
      }
    },
    {
      "cell_type": "markdown",
      "source": [
        "### `AND`, `OR`, `NOT`\n",
        "\n",
        "Los operadores lógicos `and`, `or` y `not` son usados para combinar expresiones lógicas en Python. Ellos son usados frecuentemente en conjunto con el comando `if` para crear estructuras condicionales más complejas.\n"
      ],
      "metadata": {
        "id": "GFIZnRWXGPWO"
      }
    },
    {
      "cell_type": "markdown",
      "source": [
        "- `AND` es usado para verificar si dos condiciones son verdaderas. La expresión lógica¹ `x and y` se evalúa como `True` tan solo si **ambas condiciones `x` y `y` son verdaderas**, y como `False` en caso contrario.\n",
        "\n",
        "- `OR` es usado para verificar si al menos una de las condiciones es verdadera. La expresión lógica `x or y` se evalúa como `True` **si al menos una de las condiciones `x` o `y` es verdadera**, y como `False` si ambas condiciones son falsas.\n",
        "\n",
        "- `NOT` es usado para **negar una condición**. La expresión lógica `not x` es evaluada como `True` si la condición x es falsa, y como `False` si la condición x es verdadera.\n",
        "\n",
        "¹ Una expresión lógica es una declaración que puede ser evaluada como verdadera o falsa. Ella se compone por operandos lógicos² y por operadores lógicos³, que son usados ​​para combinar varias expresiones lógicas en una única expresión.\n",
        "\n",
        "² Los operandos lógicos son los elementos que son comparados o evaluados en una expresión lógica. Ellos son generalmente valores verdaderos o falsos, pero también pueden ser expresiones lógicas más complejas. En Python, los operandos lógicos son los valores `True` y `False`.\n",
        "\n",
        "³ Los operadores lógicos son ls símbolos o palabras clave que son usados ​​para combinar varias expresiones lógicas en una única expresión. En Python, los operadores lógicos son `and`, `or` y `not`, bien como las palabras clave `if`, `elif` e `else`."
      ],
      "metadata": {
        "id": "Z_dgAoHXJbzB"
      }
    },
    {
      "cell_type": "markdown",
      "source": [
        "> Operadores lógicos más comunes\n",
        "\n",
        "|a|b|AND|OR|NOT|\n",
        "|-|-|-|-|-|\n",
        "|0|0|0|0|1\n",
        "|0|1|0|1|-\n",
        "|1|0|0|1|-\n",
        "|1|1|1|1|0\n"
      ],
      "metadata": {
        "id": "2E5aUogf-49u"
      }
    },
    {
      "cell_type": "code",
      "source": [],
      "metadata": {
        "id": "DFKmpvmS-Pa6"
      },
      "execution_count": null,
      "outputs": []
    },
    {
      "cell_type": "code",
      "source": [],
      "metadata": {
        "id": "W5BIrpOD-PeI"
      },
      "execution_count": null,
      "outputs": []
    },
    {
      "cell_type": "code",
      "source": [],
      "metadata": {
        "id": "fpDhYxq4-PiM"
      },
      "execution_count": null,
      "outputs": []
    },
    {
      "cell_type": "markdown",
      "source": [
        "### `IN`\n",
        "\n",
        "Es usado para verificar si un elemento está presente en una lista, tupla u otra colección de conjunto. La expresión `x in y` se evalúa como `True` si el elemento `x` esta presente na variávelen la variable de conjunto `y`, y como `False` en caso contrario."
      ],
      "metadata": {
        "id": "w7EXG1dhWtja"
      }
    },
    {
      "cell_type": "markdown",
      "source": [
        "Podemos verificarlo con variables de texto.\n",
        "\n",
        "---\n",
        "\n",
        "**Situación:**\n",
        "\n",
        "En la escuela nos entregaron una lista con nombres de estudiantes que fueron aprobados según el promedio del semestre, pero es necesario verificar si algunos nombres están en esa lista para confirmar que los datos estén correctos.\n",
        "\n",
        "La lista distribuida puede ser observada a continuación:\n",
        "\n",
        "```\n",
        "lista = 'Juan Pérez, María González, Pedro Rodríguez, Ana López, Carlos Martínez,\n",
        "    Laura Sánchez, José García, Elena Fernández, Luis Morales, Carmen Torres,\n",
        "    David Ruiz, Isabel Ramírez, Javier Díaz, Sara Herrera, Miguel Castro,\n",
        "    Patricia Ortega, Francisco Vargas, Marta Jiménez, Manuel Medina, Rosa Molina,\n",
        "    Alejandro Silva, Silvia Ruiz, Andrés Torres, Natalia Soto, Diego Guerrero,\n",
        "    Paula Ríos, Ricardo Navarro, Alicia Cordero, Carlos Vidal, Lorena Gómez'\n",
        "```\n",
        "\n",
        "Los nombres que necesitas verificar son los siguientes:\n",
        "\n",
        "```\n",
        "nombre_1 = 'Miguel Castro'\n",
        "nombre_2 = 'Marcelo Noguera'\n",
        "```"
      ],
      "metadata": {
        "id": "enJNp6JenQbq"
      }
    },
    {
      "cell_type": "code",
      "source": [],
      "metadata": {
        "id": "gPPN9BCT-Mki"
      },
      "execution_count": null,
      "outputs": []
    },
    {
      "cell_type": "code",
      "source": [],
      "metadata": {
        "id": "GINbG3Fa-Mnb"
      },
      "execution_count": null,
      "outputs": []
    },
    {
      "cell_type": "markdown",
      "source": [
        "**Desafío, hora de practicar**"
      ],
      "metadata": {
        "id": "dir80If7obCM"
      }
    },
    {
      "cell_type": "code",
      "source": [
        "numero_1 = int(input(\"Ingresa un número:\"))\n",
        "numero_2 = int(input(\"Ingresa otro número:\"))\n",
        "\n",
        "if numero_1 > numero_2:\n",
        "  print(f\"El número mayor es: {numero_1}\")\n",
        "else:\n",
        "  print(f\"El número mayor es: {numero_2}\")"
      ],
      "metadata": {
        "id": "8ukGhSehofVQ"
      },
      "execution_count": null,
      "outputs": []
    },
    {
      "cell_type": "code",
      "source": [
        "porcentaje_crecimiento = float(input('Ingresa el porcentaje de crecimiento:'))\n",
        "\n",
        "if porcentaje_crecimiento >= 10:\n",
        "  print(\"El crecimiento fue positivo\")\n",
        "else:\n",
        "  print(\"El crecimiento no fue positivo\")"
      ],
      "metadata": {
        "id": "SI2frPgZpVzQ",
        "outputId": "336cf4de-75e8-4e47-878a-71629db789bd",
        "colab": {
          "base_uri": "https://localhost:8080/"
        }
      },
      "execution_count": null,
      "outputs": [
        {
          "output_type": "stream",
          "name": "stdout",
          "text": [
            "Ingresa el porcentaje de crecimiento:9.9\n",
            "El crecimiento no fue positivo\n"
          ]
        }
      ]
    },
    {
      "cell_type": "code",
      "source": [
        "vocales = ('a, e, i, o, u')\n",
        "letra = input(\"Ingresa una letra:\")\n",
        "\n",
        "if letra in vocales:\n",
        "  print(\"La letra es una vocal\")\n",
        "else:\n",
        "  print(\"La letra es una consonante\")"
      ],
      "metadata": {
        "id": "aWFrak54p3FU",
        "outputId": "70f9995e-7c74-4d62-eb10-64e83b9bb8a8",
        "colab": {
          "base_uri": "https://localhost:8080/"
        }
      },
      "execution_count": null,
      "outputs": [
        {
          "output_type": "stream",
          "name": "stdout",
          "text": [
            "Ingresa una letra:o\n",
            "La letra es una vocal\n"
          ]
        }
      ]
    },
    {
      "cell_type": "code",
      "source": [
        "precio_1 = float(input('Ingrese el precio promedio del automóvil en el primer año: '))\n",
        "precio_2 = float(input('Ingrese el precio promedio del automóvil en el segundo año: '))\n",
        "precio_3 = float(input('Ingrese el precio promedio del automóvil en el tercer año: '))\n",
        "# Determinamos el valor más alto mediante comparaciones\n",
        "mayor = precio_1\n",
        "if precio_2 > mayor:\n",
        "  mayor = precio_2\n",
        "if precio_3 > mayor:\n",
        "  mayor = precio_3\n",
        "# Determinamos el valor más bajo mediante comparaciones\n",
        "menor = precio_1\n",
        "if precio_2 < menor:\n",
        "  menor = precio_2\n",
        "if precio_3 < menor:\n",
        "  menor = precio_3\n",
        "# Mostramos los resultados\n",
        "print(f'El precio más alto fue de $ {mayor}.')\n",
        "print(f'El precio más bajo fue de $ {menor}.')"
      ],
      "metadata": {
        "id": "R6cGJ7LRrOWO",
        "outputId": "419b4dfb-4d7a-4b83-d990-4ad3f1d1633f",
        "colab": {
          "base_uri": "https://localhost:8080/"
        }
      },
      "execution_count": null,
      "outputs": [
        {
          "output_type": "stream",
          "name": "stdout",
          "text": [
            "Ingrese el precio promedio del automóvil en el primer año: 100000\n",
            "Ingrese el precio promedio del automóvil en el segundo año: 150000\n",
            "Ingrese el precio promedio del automóvil en el tercer año: 250000\n",
            "El precio más alto fue de $ 250000.0.\n",
            "El precio más bajo fue de $ 100000.0.\n"
          ]
        }
      ]
    },
    {
      "cell_type": "code",
      "source": [
        "precio_1 = float(input('Ingrese el precio del producto 1: '))\n",
        "precio_2 = float(input('Ingrese el precio del producto 2: '))\n",
        "precio_3 = float(input('Ingrese el precio del producto 3: '))\n",
        "\n",
        "if precio_1 < precio_2 and precio_1 < precio_3:\n",
        "  print(f\"El producto 1 es el más barato\")\n",
        "elif precio_2 < precio_1 and precio_2 < precio_3:\n",
        "  print(f\"El producto 2 es el más barato\")\n",
        "else:\n",
        "  print(f\"El producto 3 es el más barato\")"
      ],
      "metadata": {
        "id": "RH2dMMScr54_",
        "outputId": "a54041f1-77f0-4bd6-eaca-4f5d3bd0e4d3",
        "colab": {
          "base_uri": "https://localhost:8080/"
        }
      },
      "execution_count": null,
      "outputs": [
        {
          "output_type": "stream",
          "name": "stdout",
          "text": [
            "Ingrese el precio del producto 1: 20\n",
            "Ingrese el precio del producto 2: 30\n",
            "Ingrese el precio del producto 3: 15\n",
            "El producto 3 es el más barato\n"
          ]
        }
      ]
    },
    {
      "cell_type": "code",
      "source": [
        "numero_1 = float(input('Ingrese un número 1: '))\n",
        "numero_2 = float(input('Ingrese un número 2: '))\n",
        "numero_3 = float(input('Ingrese un número 3: '))\n",
        "\n",
        "mayor = numero_1\n",
        "if numero_2 > mayor:\n",
        "  mayor = numero_2\n",
        "if numero_3 > mayor:\n",
        "  mayor = numero_3\n",
        "\n",
        "medio = numero_1\n",
        "if numero_2 > medio:\n",
        "  medio = numero_2\n",
        "if numero_3 > medio:\n",
        "  medio = numero_3\n",
        "\n",
        "menor = numero_1\n",
        "if numero_2 < menor:\n",
        "  menor = numero_2\n",
        "if numero_3 < menor:\n",
        "  menor = numero_3\n",
        "# Mostramos los resultados\n",
        "print(f'Los números en orden descendente son: {mayor}, {medio}, {menor}.')"
      ],
      "metadata": {
        "id": "KxmYaRuY71fj",
        "outputId": "48528715-c421-474d-fbc4-331d7e75c967",
        "colab": {
          "base_uri": "https://localhost:8080/"
        }
      },
      "execution_count": null,
      "outputs": [
        {
          "output_type": "stream",
          "name": "stdout",
          "text": [
            "Ingrese un número 1: 3\n",
            "Ingrese un número 2: 1\n",
            "Ingrese un número 3: 2\n",
            "Los números en orden descendente son: 3.0, 3.0, 1.0.\n"
          ]
        }
      ]
    },
    {
      "cell_type": "code",
      "source": [
        "turno = input(\"Ingresa el turno en el que estudias (mañana, tarde o noche):\")\n",
        "\n",
        "if turno == \"mañana\":\n",
        "  print(\"Buenos días\")\n",
        "elif turno == \"tarde\":\n",
        "  print(\"Buenas tardes\")\n",
        "elif turno == \"noche\":\n",
        "  print(\"Buenas noches\")\n",
        "else:\n",
        "  print(\"Ingresa un turno válido\")"
      ],
      "metadata": {
        "id": "mgDZDcXSP6FJ",
        "outputId": "9a63068b-2487-4107-c93a-e8c140bdd7c0",
        "colab": {
          "base_uri": "https://localhost:8080/"
        }
      },
      "execution_count": null,
      "outputs": [
        {
          "output_type": "stream",
          "name": "stdout",
          "text": [
            "Ingresa el turno en el que estudias (mañana, tarde o noche):Tarde\n",
            "Ingresa un turno válido\n"
          ]
        }
      ]
    },
    {
      "cell_type": "code",
      "source": [
        "num = int(input('Ingresa un número: '))\n",
        "\n",
        "if num % 2 == 0:\n",
        "    print('El número es par.')\n",
        "else:\n",
        "    print('El número es impar.')"
      ],
      "metadata": {
        "id": "bF8GZ9oJQ_kB"
      },
      "execution_count": null,
      "outputs": []
    },
    {
      "cell_type": "code",
      "source": [
        "numero = float(input('Ingresa un número: '))\n",
        "\n",
        "if numero % 1 == 0:\n",
        "    print('El número es entero.')\n",
        "else:\n",
        "    print('El número es decimal.')\n",
        "#Dividir entre 1 un número entero, siempre dará el número entero, en cambio el decimal siempre habrá un residuo."
      ],
      "metadata": {
        "id": "bXc0A7AnRbAt",
        "outputId": "8fe4685d-7795-46e5-f13b-beb74a117ca9",
        "colab": {
          "base_uri": "https://localhost:8080/"
        }
      },
      "execution_count": null,
      "outputs": [
        {
          "output_type": "stream",
          "name": "stdout",
          "text": [
            "Ingresa un número: 9.8\n",
            "El número es decimal.\n"
          ]
        }
      ]
    },
    {
      "cell_type": "code",
      "source": [
        "numero_uno = float(input(\"Ingresa un número: \"))\n",
        "numero_dos = float(input(\"Ingresa un segundo número: \"))\n",
        "\n",
        "operacion = input(\"¿Qué operación deseas realizar? (suma, resta o multiplicación): \")\n",
        "\n",
        "if operacion == \"suma\":\n",
        "  resultado = float(numero_uno + numero_dos)\n",
        "  print(f\"El resultado de la suma es: {resultado}\")\n",
        "elif operacion == \"resta\":\n",
        "  resultado = float(numero_uno - numero_dos)\n",
        "  print(f\"El resultado de la resta es: {resultado}\")\n",
        "elif operacion == \"multiplicación\":\n",
        "  resultado = float(numero_uno * numero_dos)\n",
        "  print(f\"El resultado de la multiplicación es: {resultado}\")\n",
        "else:\n",
        "  print(\"Ingresa una operación válida\")\n",
        "\n",
        "if resultado % 1 == 0:\n",
        "  print(\"El resultado es un número entero\")\n",
        "else:\n",
        "  print(\"El resultado es un número decimal\")"
      ],
      "metadata": {
        "id": "gLjurF5KR8tK"
      },
      "execution_count": null,
      "outputs": []
    },
    {
      "cell_type": "code",
      "source": [
        "lado_1 = float(input(\"Ingresa un valor para el primer lado: \"))\n",
        "lado_2 = float(input(\"Ingresa un valor para el segundo lado: \"))\n",
        "lado_3 = float(input(\"Ingresa un valor para el tercer lado: \"))\n",
        "\n",
        "if (lado_1 + lado_2 > lado_3) or (lado_1 + lado_3 > lado_2) or (lado_2 + lado_3 > lado_1):\n",
        "  print(\"Se puede formar un triángulo\")\n",
        "else:\n",
        "  print(\"No se puede formar un triángulo\")\n",
        "\n",
        "if lado_1 == lado_2 == lado_3:\n",
        "  print(\"El triángulo es equilátero\")\n",
        "elif lado_1 == lado_2 or lado_1 == lado_3 or lado_2 == lado_3:\n",
        "  print(\"El triángulo es isósceles\")\n",
        "else:\n",
        "  print(\"El triángulo es escaleno\")"
      ],
      "metadata": {
        "id": "N0vMAcL5U6m0"
      },
      "execution_count": null,
      "outputs": []
    },
    {
      "cell_type": "code",
      "source": [
        "combustible = input(\"Combustible cargado (E o D): \")\n",
        "litros = float(input(\"Litros de combustible: \"))\n",
        "\n",
        "precio_E = float(1.70)\n",
        "precio_D = float(2.00)\n",
        "\n",
        "if combustible == \"E\" and litros <= 15:\n",
        "  total = float(precio_E * 0.98 * litros)\n",
        "  print(f\"El total a pagar es: ${total}\")\n",
        "elif combustible == \"E\" and litros > 15:\n",
        "  total = float(precio_E * 0.96 * litros)\n",
        "  print(f\"El total a pagar es: ${total}\")\n",
        "elif combustible == \"D\" and litros <= 15:\n",
        "  total = float(precio_D * 0.97 * litros)\n",
        "  print(f\"El total a pagar es: ${total}\")\n",
        "elif combustible == \"D\" and litros > 15:\n",
        "  total = float(precio_D * 0.95 * litros)\n",
        "  print(f\"El total a pagar es: ${total}\")\n",
        "else:\n",
        "  print(\"Ingresa valores válidos\")"
      ],
      "metadata": {
        "id": "3NHsSYcuW5l2"
      },
      "execution_count": null,
      "outputs": []
    },
    {
      "cell_type": "code",
      "source": [
        "ventas_1 = float(input(\"Ingresa el valor de las ventas del 2022: \"))\n",
        "ventas_2 = float(input(\"Ingresa el valor de las ventas del 2023: \"))\n",
        "\n",
        "variacion = float(((ventas_2 - ventas_1)/ventas_1)*100)\n",
        "\n",
        "if variacion > 20:\n",
        "  print(\"¡Todos tendrán una gran bonificación!\")\n",
        "elif 2 < variacion <= 20:\n",
        "  print(\"Habrá una pequeña bonificación\")\n",
        "elif -10 < variacion <= 2:\n",
        "  print(\"Se planearán gastos\")\n",
        "else:\n",
        "  print(\"Habrá recorte de gastos\")"
      ],
      "metadata": {
        "id": "0NtjCLZhZoBo"
      },
      "execution_count": null,
      "outputs": []
    },
    {
      "cell_type": "markdown",
      "source": [
        "# Estructuras de repetición"
      ],
      "metadata": {
        "id": "aL1vJPewvwvz"
      }
    },
    {
      "cell_type": "markdown",
      "source": [
        "Cuando tenemos que ejecutar un mismo bloque de comandos durante varias ocasiones no es nada práctico hacerlo a mano.\n",
        "\n",
        "**Situación**: Nos fue solicitado obtener e imprimir el promedio de 2 notas de **3 estudantes**:"
      ],
      "metadata": {
        "id": "VcPfCa8d-84t"
      }
    },
    {
      "cell_type": "code",
      "source": [],
      "metadata": {
        "id": "xcx21IGT9qA0"
      },
      "execution_count": null,
      "outputs": []
    },
    {
      "cell_type": "code",
      "source": [],
      "metadata": {
        "id": "Wtbiy9Ay9rGJ"
      },
      "execution_count": null,
      "outputs": []
    },
    {
      "cell_type": "code",
      "source": [],
      "metadata": {
        "id": "Yfyz4anY9rIr"
      },
      "execution_count": null,
      "outputs": []
    },
    {
      "cell_type": "markdown",
      "source": [
        "Ahora imaginemos una situación en que no son tan solo 3 estudiantes, sino 100 estudiantes. No sería nada interesante repetir el mismo código 100 veces, sino **ejecutar el mismo código 100 veces**.\n",
        "\n",
        "¡Esta estructura la logramos construir con lazos de repetición!"
      ],
      "metadata": {
        "id": "9puIuvUbFSFX"
      }
    },
    {
      "cell_type": "markdown",
      "source": [
        "## `WHILE`"
      ],
      "metadata": {
        "id": "uLO9-aE4-wx8"
      }
    },
    {
      "cell_type": "markdown",
      "source": [
        "El lazo `while` es una estructura de control de repetición en Python que permite ejecutar un bloque de código repetidamente mientras que una determinada condición sea verdadera. Su estructura es:\n",
        "\n",
        "\n",
        "\n",
        "```\n",
        "while condicion:\n",
        "    # bloque de codigo\n",
        "```\n",
        "\n",
        "Vamos a construir un ejemplo con un contador de 1 hasta 10.\n"
      ],
      "metadata": {
        "id": "rXZxDMiqHxm9"
      }
    },
    {
      "cell_type": "code",
      "source": [],
      "metadata": {
        "id": "Hd0ZSWxD9wCD"
      },
      "execution_count": null,
      "outputs": []
    },
    {
      "cell_type": "code",
      "source": [],
      "metadata": {
        "id": "miFHNqp29nOL"
      },
      "execution_count": null,
      "outputs": []
    },
    {
      "cell_type": "markdown",
      "source": [
        "Ahora vamos a colectar las notas y promedios de cada alumno dentro del lazo `while`. Haremos un ejemplo con 3 promedios."
      ],
      "metadata": {
        "id": "W4KZPBJuIrut"
      }
    },
    {
      "cell_type": "code",
      "source": [],
      "metadata": {
        "id": "9T5eCLFx9wk6"
      },
      "execution_count": null,
      "outputs": []
    },
    {
      "cell_type": "code",
      "source": [],
      "metadata": {
        "id": "P6E0_dW-9lZ9"
      },
      "execution_count": null,
      "outputs": []
    },
    {
      "cell_type": "markdown",
      "source": [
        "## `FOR`"
      ],
      "metadata": {
        "id": "WgAIaENMMfCP"
      }
    },
    {
      "cell_type": "markdown",
      "source": [
        "El lazo `for` es un tipo de estructura de control de flujo en Python que permite iterar sobre un conjunto de elementos. Su estructura es:\n",
        "\n",
        "\n",
        "\n",
        "```\n",
        "for elemento in conjunto:\n",
        "    # codigo a ser ejecutado para cada elemento\n",
        "```\n",
        "\n",
        "El lazo `for` itera sobre cada elemento del conjunto especificado y ejecuta el bloque de código dentro del lazo para cada elemento. Cuando el lazo llega al final del conjunto, este se interrumpe y el programa continúa la ejecución después del lazo.\n",
        "\n"
      ],
      "metadata": {
        "id": "HxrSZoRAMh-x"
      }
    },
    {
      "cell_type": "markdown",
      "source": [
        "El conjunto lo podemos generar con la función incorporada [`range()`](https://docs.python.org/3/library/functions.html#func-range). Se trata de una función capaz de generar una secuencia de números enteros. La estructura de esta función es:\n",
        "\n",
        "```\n",
        "range(inicio, fin, paso)\n",
        "```\n",
        "\n",
        "Según la documentación, `range()` genera una secuencia de números enteros a partir del valor del parámetro `inicio` hasta el valor del parámetro `fin`, de acuerdo con el valor del parámetro `paso`. Si `inicio` no es especificado, el valor por defecto es `0`. Si `paso` no es especificado, el valor por defecto es `1`.\n",
        "\n",
        "\n"
      ],
      "metadata": {
        "id": "6VgjyoQtPHBM"
      }
    },
    {
      "cell_type": "markdown",
      "source": [
        "Vamos a recrear el mismo contador `while` con el lazo `for`."
      ],
      "metadata": {
        "id": "ryn0hfdlUwC8"
      }
    },
    {
      "cell_type": "code",
      "source": [
        "for i in range(1, 6):\n",
        "    if i == 4:\n",
        "        continue\n",
        "    print(i)"
      ],
      "metadata": {
        "id": "KkL1wUIj9jL4",
        "colab": {
          "base_uri": "https://localhost:8080/"
        },
        "outputId": "ddd0524f-6ba2-4274-f826-d3fb40449baf"
      },
      "execution_count": null,
      "outputs": [
        {
          "output_type": "stream",
          "name": "stdout",
          "text": [
            "1\n",
            "2\n",
            "3\n",
            "5\n"
          ]
        }
      ]
    },
    {
      "cell_type": "markdown",
      "source": [
        "# **Desafío, hora de practicar**"
      ],
      "metadata": {
        "id": "CYzabMJG45tm"
      }
    },
    {
      "cell_type": "code",
      "source": [
        "numero_uno = int(input(\"Ingresa un número: \"))\n",
        "numero_dos = int(input(\"Ingresa un segundo número: \"))\n",
        "\n",
        "for i in range(numero_uno, numero_dos + 1):\n",
        "  print(i)"
      ],
      "metadata": {
        "id": "uXIZnLSr9jOu"
      },
      "execution_count": null,
      "outputs": []
    },
    {
      "cell_type": "code",
      "source": [
        "nA = float(4)\n",
        "nB = float(10)\n",
        "dias = 0\n",
        "\n",
        "while nA <= nB:\n",
        "  nA = nA + (nA*0.03)\n",
        "  nB = nB + (nB*0.015)\n",
        "  dias += 1\n",
        "\n",
        "  print(f\"La colonía necesitará: {dias}\")"
      ],
      "metadata": {
        "id": "cxcle2PI5uge"
      },
      "execution_count": null,
      "outputs": []
    },
    {
      "cell_type": "code",
      "source": [
        "for i in range(1,16):\n",
        "  calificacion = int(input(\"Ingrese una calificación: \"))\n",
        "  if calificacion > 5 or calificacion < 0:\n",
        "    print(\"Ingresa un valor válido\")\n",
        "    continue\n",
        "  print(f\"Calificación {i}: {calificacion}\")"
      ],
      "metadata": {
        "id": "g7edmOQ48GXf"
      },
      "execution_count": null,
      "outputs": []
    },
    {
      "cell_type": "code",
      "source": [
        "valorLectura = float(input(\"Ingrese un valor de temperatura: \"))\n",
        "sumatoria = 0\n",
        "lectura = 0\n",
        "\n",
        "while valorLectura != -273:\n",
        "  sumatoria += valorLectura\n",
        "  lectura += 1\n",
        "  valorLectura = float(input(\"Ingrese un valor de temperatura: \"))\n",
        "\n",
        "promedio = sumatoria / lectura\n",
        "\n",
        "print(f\"El valor del promedio es: {promedio}\")"
      ],
      "metadata": {
        "id": "43wEgQjC-h4i"
      },
      "execution_count": null,
      "outputs": []
    },
    {
      "cell_type": "code",
      "source": [
        "numero = int(input(\"Ingresa un número entero: \"))\n",
        "factorial = 1\n",
        "while numero > 0:\n",
        "  factorial *= numero\n",
        "  numero -= 1\n",
        "print(f\"El factorial del número ingresado es: {factorial}\")"
      ],
      "metadata": {
        "id": "jb95mBUPBdxV"
      },
      "execution_count": null,
      "outputs": []
    },
    {
      "cell_type": "code",
      "source": [
        "valor_Usuario = int(input(\"Ingresa un número entero: \"))\n",
        "\n",
        "for i in range(1,11):\n",
        "  resultado = valor_Usuario * i\n",
        "  print(f\"{valor_Usuario} x {i} = {resultado}\")"
      ],
      "metadata": {
        "id": "L74CSe3SDBBd"
      },
      "execution_count": null,
      "outputs": []
    },
    {
      "cell_type": "code",
      "source": [
        "num = int(input('Ingresa un número entero: '))\n",
        "\n",
        "if num > 1:\n",
        "    for i in range(2, num):\n",
        "        if (num % i) == 0:\n",
        "            print(f'{num} no es un número primo')\n",
        "            break\n",
        "    else:\n",
        "        print(f'{num} es un número primo')\n",
        "else:\n",
        "    print(f'{num} no es un número primo')"
      ],
      "metadata": {
        "id": "OxywYEepEEZW"
      },
      "execution_count": null,
      "outputs": []
    },
    {
      "cell_type": "code",
      "source": [
        "edad = int(input(\"Ingrese la edad del empleado: \"))\n",
        "empleados_1 = 0\n",
        "empleados_2 = 0\n",
        "empleados_3 = 0\n",
        "empleados_4 = 0\n",
        "\n",
        "while edad >= 0:\n",
        "  if 0 < edad <= 25:\n",
        "    empleados_1 += 1\n",
        "  elif 25 < edad <= 50:\n",
        "    empleados_2 += 1\n",
        "  elif 50 < edad <= 75:\n",
        "    empleados_3 += 1\n",
        "  else:\n",
        "    empleados_4 += 1\n",
        "\n",
        "  edad = int(input(\"Ingrese la edad del empleado: \"))\n",
        "\n",
        "print(f\"0 a 25 años: {empleados_1}\")\n",
        "print(f\"26 a 50 años: {empleados_2}\")\n",
        "print(f\"56 a 75 años: {empleados_3}\")\n",
        "print(f\"76 a 100 años: {empleados_4}\")\n"
      ],
      "metadata": {
        "id": "16JiWj6UGBTH"
      },
      "execution_count": null,
      "outputs": []
    },
    {
      "cell_type": "code",
      "source": [
        "c1= 0\n",
        "c2= 0\n",
        "c3= 0\n",
        "c4= 0\n",
        "nulos = 0\n",
        "blanco = 0\n",
        "\n",
        "for i in range(1,21):\n",
        "  voto = int(input(\"Ingresa tu voto (1, 2, 3, 4, 5 o 6): \"))\n",
        "  if voto == 1:\n",
        "    c1 += 1\n",
        "  elif voto == 2:\n",
        "    c2 += 1\n",
        "  elif voto == 3:\n",
        "    c3 += 1\n",
        "  elif voto == 4:\n",
        "    c4 += 1\n",
        "  elif voto == 5:\n",
        "    nulos += 1\n",
        "  elif voto == 6:\n",
        "    blanco += 1\n",
        "  else:\n",
        "    print(\"Ingresa un valor válido\")\n",
        "\n",
        "porcentaje_nulos = float((nulos / 20) * 100)\n",
        "porcentaje_blanco = float((blanco / 20) * 100)\n",
        "\n",
        "print(f\"Candidato 1: {c1}\")\n",
        "print(f\"Candidato 2: {c2}\")\n",
        "print(f\"Candidato 3: {c3}\")\n",
        "print(f\"Candidato 4: {c4}\")\n",
        "print(f\"Nulos: {nulos}\")\n",
        "print(f\"Porcentaje nulos: {porcentaje_nulos} %\")\n",
        "print(f\"Blanco: {blanco}\")\n",
        "print(f\"Porcentaje blanco: {porcentaje_blanco} %\")\n",
        "\n"
      ],
      "metadata": {
        "id": "-agQlwLXgSLq"
      },
      "execution_count": null,
      "outputs": []
    },
    {
      "cell_type": "markdown",
      "source": [
        "# Estructuras de datos"
      ],
      "metadata": {
        "id": "8noP8OJ0Vhux"
      }
    },
    {
      "cell_type": "markdown",
      "source": [
        "Un conjunto de elementos es una colección de items, que son almacenados juntos de manera organizada. Algunos ejemplos de conjuntos de elementos en Python son las listas, los strings y los diccionarios."
      ],
      "metadata": {
        "id": "xpEUkefTu8fY"
      }
    },
    {
      "cell_type": "markdown",
      "source": [
        "## Listas"
      ],
      "metadata": {
        "id": "THSg4KYLwxIb"
      }
    },
    {
      "cell_type": "markdown",
      "source": [
        "Las listas pueden almacenar una colección de items en orden. Ellas son delimitadas por corchetes `[]` y sus elementos son separados por comas.\n",
        "\n",
        "Estas pueden almacenar cualquier tipo de items, incluyendo números, strings, objetos, otras listas, entre otros. También nos permiten almacenar items de tipos de datos diferentes juntos en una única lista."
      ],
      "metadata": {
        "id": "dzpsiqrOyJcK"
      }
    },
    {
      "cell_type": "code",
      "source": [
        "lista = ['Penélope Camacho',9.5,9.0,9.7,True]\n",
        "lista"
      ],
      "metadata": {
        "id": "DO3TBj7nAYeG",
        "colab": {
          "base_uri": "https://localhost:8080/"
        },
        "outputId": "fbee2eb5-265e-4b5b-badf-a0dd9331074b"
      },
      "execution_count": null,
      "outputs": [
        {
          "output_type": "execute_result",
          "data": {
            "text/plain": [
              "['Penélope Camacho', 9.5, 9.0, 9.7, True]"
            ]
          },
          "metadata": {},
          "execution_count": 62
        }
      ]
    },
    {
      "cell_type": "code",
      "source": [],
      "metadata": {
        "id": "DO2ubP9N9D_2"
      },
      "execution_count": null,
      "outputs": []
    },
    {
      "cell_type": "markdown",
      "source": [
        "Las listas son organizadas en Python porque **cada elemento de la lista tiene un índice que indica su posición al interior de la lista**. Los índices comienzan en 0 van hasta el tamaño de la lista menos 1."
      ],
      "metadata": {
        "id": "qUz3sJNl6LgK"
      }
    },
    {
      "cell_type": "markdown",
      "source": [
        "Tenemos entonces 5 elementos con índices que varían de 0 a 4, ordenadamente:\n",
        "\n",
        "```\n",
        "#             [0]           [1]   [2]   [3]    [4]\n",
        "lista = ['Penélope Camacho', 9.5 , 9.0 , 9.7 , True]\n",
        "```\n",
        "\n",
        "En Python tenemos también los índices **negativos** que se inician en el último elemento con el valor de `-1` y avanzan en el universo de los negativos hasta llegar al 1° elemento:\n",
        "\n",
        "```\n",
        "#             [-5]         [-4]  [-3]  [-2]   [-1]\n",
        "lista = ['Penélope Camacho', 9.5 , 9.0 , 9.7 , True]\n",
        "```\n",
        "\n",
        "Logramos seleccionar separadamente cada elemento a través de sus respectivos índices. Colocando el nombre de la lista y en seguida el índice que será seleccionado."
      ],
      "metadata": {
        "id": "rLf-Qg526hFD"
      }
    },
    {
      "cell_type": "code",
      "source": [],
      "metadata": {
        "id": "4hco1Zqy88Kw"
      },
      "execution_count": null,
      "outputs": []
    },
    {
      "cell_type": "code",
      "source": [],
      "metadata": {
        "id": "M8lH0I2288Ph"
      },
      "execution_count": null,
      "outputs": []
    },
    {
      "cell_type": "markdown",
      "source": [
        "Una forma más dinámica de trabajar item a item en una lista es utilizando un lazo `for` para leer un elemento a la vez."
      ],
      "metadata": {
        "id": "6TaE1ijmBTCd"
      }
    },
    {
      "cell_type": "code",
      "source": [],
      "metadata": {
        "id": "rBx4Yu1786Sy"
      },
      "execution_count": null,
      "outputs": []
    },
    {
      "cell_type": "markdown",
      "source": [
        "**Situación**: La nota `9.0` de Penélope necesita ser ajustada pues ganó 1 punto en su última nota por participación en clase. Entonces es necesario realizar un cambio en el índice `2` de `9.0` a `10.0`."
      ],
      "metadata": {
        "id": "Dh1_HnIVvucY"
      }
    },
    {
      "cell_type": "code",
      "source": [],
      "metadata": {
        "id": "bVPoZg668z3T"
      },
      "execution_count": null,
      "outputs": []
    },
    {
      "cell_type": "code",
      "source": [],
      "metadata": {
        "id": "Jo_PBQ0g8z7D"
      },
      "execution_count": null,
      "outputs": []
    },
    {
      "cell_type": "markdown",
      "source": [
        "También podemos calcular el promedio del estudiante a partir de los datos que tenemos."
      ],
      "metadata": {
        "id": "53XduzXkycAf"
      }
    },
    {
      "cell_type": "code",
      "source": [],
      "metadata": {
        "id": "SIH61Rrb8yv4"
      },
      "execution_count": null,
      "outputs": []
    },
    {
      "cell_type": "markdown",
      "source": [
        "## Manipulación de listas\n",
        "\n",
        "Las listas son muy útiles en Python porque nos permiten almacenar y acceder a una colección de items de manera organizada y rápida. Estas también ofrecen muchos métodos útiles para manipular los itens almacenados, como adicionar, remover, clasificar y buscar elementos."
      ],
      "metadata": {
        "id": "d-iYr10-y4qw"
      }
    },
    {
      "cell_type": "markdown",
      "source": [
        "#### Cantidad de elementos\n",
        "\n",
        "Usamos la función [`len()`](https://docs.python.org/3/library/functions.html#len) para descubrir la cantidad de elementos de un conjunto."
      ],
      "metadata": {
        "id": "ZLqx9A97XVB_"
      }
    },
    {
      "cell_type": "code",
      "source": [],
      "metadata": {
        "id": "6q1Tmm7P8wQf"
      },
      "execution_count": null,
      "outputs": []
    },
    {
      "cell_type": "markdown",
      "source": [
        "#### Partición\n",
        "\n",
        "La partición de listas por indexación en Python es una técnica muy útil para seleccionar un subconjunto de elementos de una lista. Esta se realiza usando la sintaxis `lista[inicio:fin]`, donde `inicio` es el índice del primer elemento que será incluído en la partición `fin` es el índice del primer elemento que será excluído de la partición."
      ],
      "metadata": {
        "id": "Z5tpstlHJss3"
      }
    },
    {
      "cell_type": "code",
      "source": [],
      "metadata": {
        "id": "NctvJTTU8uV9"
      },
      "execution_count": null,
      "outputs": []
    },
    {
      "cell_type": "code",
      "source": [],
      "metadata": {
        "id": "bQZUwldj8uY2"
      },
      "execution_count": null,
      "outputs": []
    },
    {
      "cell_type": "markdown",
      "source": [
        "#### [`append()`](https://docs.python.org/3/tutorial/datastructures.html#:~:text=of%20list%20objects%3A-,list.append(x),-Add%20an%20item)\n",
        "\n",
        "Añade un elemento al final de la lista."
      ],
      "metadata": {
        "id": "O0RRyabkRzZC"
      }
    },
    {
      "cell_type": "code",
      "source": [],
      "metadata": {
        "id": "_Q0oODwa8spC"
      },
      "execution_count": null,
      "outputs": []
    },
    {
      "cell_type": "code",
      "source": [],
      "metadata": {
        "id": "RM894r2M8sse"
      },
      "execution_count": null,
      "outputs": []
    },
    {
      "cell_type": "markdown",
      "source": [
        "#### [`extend()`](https://docs.python.org/3/tutorial/datastructures.html#:~:text=list.extend(iterable))\n",
        "\n",
        "Añade varios elementos al final de la lista.\n",
        "\n",
        "Añadiremos las notas `[10.0,8.0,9.0]` En la lista de Penélope Camacho."
      ],
      "metadata": {
        "id": "uQV91XMsUOJD"
      }
    },
    {
      "cell_type": "code",
      "source": [],
      "metadata": {
        "id": "6Zk2MpMw8rQc"
      },
      "execution_count": null,
      "outputs": []
    },
    {
      "cell_type": "code",
      "source": [],
      "metadata": {
        "id": "NnoKkoWb8rTQ"
      },
      "execution_count": null,
      "outputs": []
    },
    {
      "cell_type": "markdown",
      "source": [
        "*A continuación te mostraremos lo que no puede realizarse con* `append`."
      ],
      "metadata": {
        "id": "IVJvkTwNUk6M"
      }
    },
    {
      "cell_type": "code",
      "source": [],
      "metadata": {
        "id": "u3Eub2ZL8pp3"
      },
      "execution_count": null,
      "outputs": []
    },
    {
      "cell_type": "code",
      "source": [],
      "metadata": {
        "id": "tsKK5Ne58pvN"
      },
      "execution_count": null,
      "outputs": []
    },
    {
      "cell_type": "markdown",
      "source": [
        "#### [`remove()`](https://docs.python.org/3/tutorial/datastructures.html#:~:text=append(x).-,list.remove(x),-Remove%20the%20first)\n",
        "\n",
        "Remueve un elemento específico de la lista."
      ],
      "metadata": {
        "id": "dPGM5gpyUX1z"
      }
    },
    {
      "cell_type": "code",
      "source": [],
      "metadata": {
        "id": "mmboODPc8nd5"
      },
      "execution_count": null,
      "outputs": []
    },
    {
      "cell_type": "code",
      "source": [],
      "metadata": {
        "id": "T_w6vVgV8nh_"
      },
      "execution_count": null,
      "outputs": []
    },
    {
      "cell_type": "markdown",
      "source": [
        "## Diccionario"
      ],
      "metadata": {
        "id": "Rc22Vc08YDZ2"
      }
    },
    {
      "cell_type": "markdown",
      "source": [
        "Los diccionarios son un tipo de estructura de datos que almacenan pares de *llave-valor*. Estos son delimitados por llaves `{}` y los pares *llave-valor* son separados por comas.\n",
        "\n",
        "```\n",
        "diccionario = {llave: valor}\n",
        "```\n",
        "\n",
        "La **llave** es un elemento único que identifica a un valor en el diccionario, mientras que el **valor** es el item que será almacenado para la llave. Las llaves y sus respectivos valores se pueden emplear para **cualquier tipo de dato**.\n",
        "\n",
        "Los diccionarios son útiles para almacenar y acceder a los datos de manera organizada y rápida. Se trata de un tipo de conjunto de elementos en Python, pues almacenan una colección de items."
      ],
      "metadata": {
        "id": "PJ-cCKPjeWxL"
      }
    },
    {
      "cell_type": "code",
      "source": [],
      "metadata": {
        "id": "NDHhzooE8ld5"
      },
      "execution_count": null,
      "outputs": []
    },
    {
      "cell_type": "code",
      "source": [],
      "metadata": {
        "id": "AVOzqzy-8lhh"
      },
      "execution_count": null,
      "outputs": []
    },
    {
      "cell_type": "markdown",
      "source": [
        "---\n",
        "**Situación:**\n",
        "\n",
        "Vamos a crear un conjunto de datos con las informaciones de matrícula de un estudiante. Los datos son los siguientes:\n",
        "\n",
        "- matrícula: 2000168933\n",
        "- día de registro: 25\n",
        "- mes de registro: 10\n",
        "- grupo: 2E"
      ],
      "metadata": {
        "id": "_JbQ3KMKfkXU"
      }
    },
    {
      "cell_type": "code",
      "source": [],
      "metadata": {
        "id": "0lfOu_c38jED"
      },
      "execution_count": null,
      "outputs": []
    },
    {
      "cell_type": "code",
      "source": [],
      "metadata": {
        "id": "XIuqpTTy8jHV"
      },
      "execution_count": null,
      "outputs": []
    },
    {
      "cell_type": "markdown",
      "source": [
        "Es posible sustituir los valores dentro de una llave. Por ejemplo, recibimos la información de que el grupo del estudiante que registramos cambio a `'2G'` y ahora necesitamos cambiar el valor de la llave `'grupo'`."
      ],
      "metadata": {
        "id": "8ex5pt2ykDd2"
      }
    },
    {
      "cell_type": "code",
      "source": [],
      "metadata": {
        "id": "kQGlp36b8fyP"
      },
      "execution_count": null,
      "outputs": []
    },
    {
      "cell_type": "code",
      "source": [],
      "metadata": {
        "id": "DnfH_qHi8f17"
      },
      "execution_count": null,
      "outputs": []
    },
    {
      "cell_type": "markdown",
      "source": [
        "También podemos añadir otros datos al diccionario. Vamos a añadir la información sobre la modalidad de estudio, nuestro estudiante estudiará inicialemente en la modalidad EAD.\n",
        "\n",
        "Definiremos una llave llamada `'modalidad'` con el valor `'EAD'`."
      ],
      "metadata": {
        "id": "wB0qRb56mQvv"
      }
    },
    {
      "cell_type": "code",
      "source": [],
      "metadata": {
        "id": "EeLYdlIm8d8a"
      },
      "execution_count": null,
      "outputs": []
    },
    {
      "cell_type": "code",
      "source": [],
      "metadata": {
        "id": "olDIavsm8d_o"
      },
      "execution_count": null,
      "outputs": []
    },
    {
      "cell_type": "markdown",
      "source": [
        "## Profundizando en diccionarios"
      ],
      "metadata": {
        "id": "LJ3o_inroxg_"
      }
    },
    {
      "cell_type": "markdown",
      "source": [
        "#### [`pop()`](https://python-reference.readthedocs.io/en/latest/docs/dict/pop.html)\n",
        "Remueve un item de un diccionario y lo representa en la salida."
      ],
      "metadata": {
        "id": "2N3GLlkSpBiu"
      }
    },
    {
      "cell_type": "code",
      "source": [],
      "metadata": {
        "id": "ZsSCZx6G8b-T"
      },
      "execution_count": null,
      "outputs": []
    },
    {
      "cell_type": "code",
      "source": [],
      "metadata": {
        "id": "7lQ8_jpi8cBR"
      },
      "execution_count": null,
      "outputs": []
    },
    {
      "cell_type": "markdown",
      "source": [
        "#### [`items()`](https://python-reference.readthedocs.io/en/latest/docs/dict/items.html)\n",
        "Retorna una lista de pares `llave-valor` del diccionario."
      ],
      "metadata": {
        "id": "sYZGvJJYrW_y"
      }
    },
    {
      "cell_type": "code",
      "source": [],
      "metadata": {
        "id": "ncdycLV08an7"
      },
      "execution_count": null,
      "outputs": []
    },
    {
      "cell_type": "markdown",
      "source": [
        "#### [`keys()`](https://python-reference.readthedocs.io/en/latest/docs/dict/keys.html)\n",
        "Retorna una lista de las llaves del diccionario."
      ],
      "metadata": {
        "id": "Lb0utNFGrZBY"
      }
    },
    {
      "cell_type": "code",
      "source": [],
      "metadata": {
        "id": "eZo0biaM8ZVs"
      },
      "execution_count": null,
      "outputs": []
    },
    {
      "cell_type": "markdown",
      "source": [
        "#### [`values()`](https://python-reference.readthedocs.io/en/latest/docs/dict/values.html)\n",
        "Retorna una lista de los valores del diccionario."
      ],
      "metadata": {
        "id": "qKyu3bf9rbtX"
      }
    },
    {
      "cell_type": "code",
      "source": [],
      "metadata": {
        "id": "-NxRT9C18Yvo"
      },
      "execution_count": null,
      "outputs": []
    },
    {
      "cell_type": "markdown",
      "source": [
        "### Lectura de valores con el lazo `for`"
      ],
      "metadata": {
        "id": "e3XVjR8Frp75"
      }
    },
    {
      "cell_type": "code",
      "source": [],
      "metadata": {
        "id": "aAnpP1Wv8XfJ"
      },
      "execution_count": null,
      "outputs": []
    },
    {
      "cell_type": "markdown",
      "source": [
        "**Desafío, hora de practicar**"
      ],
      "metadata": {
        "id": "fHn7C7PWvboN"
      }
    },
    {
      "cell_type": "code",
      "source": [
        "tienda = {'nombres': ['televisión', 'celular', 'notebook', 'geladeira', 'estufa'],\n",
        "          'precios': [2000, 1500, 3500, 4000, 1500]}\n",
        "\n",
        "for clave, elementos in tienda.items():\n",
        "  print(f'Clave: {clave}\\nElementos:')\n",
        "  for dato in elementos:\n",
        "    print(dato)"
      ],
      "metadata": {
        "id": "chWLSrlzvhiA"
      },
      "execution_count": null,
      "outputs": []
    },
    {
      "cell_type": "code",
      "source": [
        "gastos = [2172.54, 3701.35, 3518.09, 3456.61, 3249.38, 2840.82, 3891.45, 3075.26, 2317.64, 3219.08]\n",
        "\n",
        "promedio = sum(gastos) / len(gastos)\n",
        "print(f\"El promedio de gastos es: {promedio}\")"
      ],
      "metadata": {
        "id": "ptFxl79xxAYj"
      },
      "execution_count": null,
      "outputs": []
    },
    {
      "cell_type": "code",
      "source": [
        "gastos = [2172.54, 3701.35, 3518.09, 3456.61, 3249.38, 2840.82, 3891.45, 3075.26, 2317.64, 3219.08]\n",
        "gastos_mayores = float(0)\n",
        "\n",
        "for gasto in gastos:\n",
        "  if gasto > 3000:\n",
        "    gastos_mayores += 1\n",
        "\n",
        "porcentaje = (gastos_mayores / len(gastos)) * 100\n",
        "\n",
        "print(f\"Los gastos mayores a 3000 son: {gastos_mayores}\")\n",
        "print(f\"El porcentaje de gastos mayores a 3000 es: {porcentaje} %\")"
      ],
      "metadata": {
        "id": "mqRjtGKTxeIL"
      },
      "execution_count": null,
      "outputs": []
    },
    {
      "cell_type": "code",
      "source": [
        "lista = []\n",
        "for i in range(1,6):\n",
        "  numero = int(input(\"Ingresa un número: \"))\n",
        "  lista.append(numero)\n",
        "\n",
        "print(lista)\n"
      ],
      "metadata": {
        "id": "_wEzfLWJLjSC"
      },
      "execution_count": null,
      "outputs": []
    },
    {
      "cell_type": "code",
      "source": [
        "lista = []\n",
        "for i in range(1,6):\n",
        "  numero = int(input(\"Ingresa un número: \"))\n",
        "  lista.append(numero)\n",
        "\n",
        "lista.sort()\n",
        "print(lista)"
      ],
      "metadata": {
        "id": "Wl8qHGVZMEgb"
      },
      "execution_count": null,
      "outputs": []
    },
    {
      "cell_type": "code",
      "source": [
        "crecimiento = [1.2, 2.1, 3.3, 5.0, 7.8, 11.3, 16.6, 25.1, 37.8, 56.9]\n",
        "porcentaje_crece = [] #Lista para los nuevos valores\n",
        "\n",
        "for i in range(1,len(crecimiento)): #i representa el indice del elemento\n",
        "#Solo dará nuevos valores, porque el último elemento no tiene con quién hacer la operación\n",
        "#Por eso se utiliza el tamaño total de la lista, porque el último se tiene que excluir\n",
        "  porcentaje = ((crecimiento[i]-crecimiento[i-1])/crecimiento[i-1])*100\n",
        "  porcentaje_crece.append(porcentaje)\n",
        "\n",
        "print(f\"El porcentaje de crecimiento es: \\n{porcentaje_crece} %\")"
      ],
      "metadata": {
        "id": "7K1Ahm73N1M5"
      },
      "execution_count": null,
      "outputs": []
    },
    {
      "cell_type": "code",
      "source": [
        "id_dulces = []\n",
        "id_amargos = []\n",
        "\n",
        "for i in range(1,11):\n",
        "  id = int(input(f\"Ingresa el id del producto {i}: \"))\n",
        "  if (id % 2) == 0:\n",
        "    id_dulces.append(id)\n",
        "  else:\n",
        "    id_amargos.append(id)\n",
        "  i+=1\n",
        "\n",
        "print(f\"Los id de los productos dulces son: \\n{id_dulces}\")\n",
        "print(f\"Los id de los productos amargos son: \\n{id_amargos}\")"
      ],
      "metadata": {
        "id": "h02xPWVuQIsQ"
      },
      "execution_count": null,
      "outputs": []
    },
    {
      "cell_type": "code",
      "source": [
        "respuestas_correctas = [\"D\",\"A\",\"C\",\"B\",\"A\",\"D\",\"C\",\"C\",\"A\",\"B\"]\n",
        "respuestas = []\n",
        "nota = 0\n",
        "\n",
        "for i in range(1,11):\n",
        "  respuesta = input(f\"Ingresa la respuesta de la pregunta {i} (A, B, C o D): \")\n",
        "  if respuesta == respuestas_correctas[i-1]:\n",
        "    nota += 1\n",
        "    print(\"Respuesta correcta\")\n",
        "  else:\n",
        "    print(\"Respuesta incorrecta\")\n",
        "\n",
        "  respuestas.append(respuesta)\n",
        "  i+=1\n",
        "\n",
        "print(f\"La nota final es: {nota}\")"
      ],
      "metadata": {
        "id": "A12VSwspSa8V"
      },
      "execution_count": null,
      "outputs": []
    },
    {
      "cell_type": "code",
      "source": [
        "temperaturas = {\"Enero\":0, \"Febrero\":0, \"Marzo\":0, \"Abril\":0, \"Mayo\":0, \"Junio\":0, \"Julio\":0, \"Agosto\":0, \"Septiembre\":0, \"Octubre\":0, \"Noviembre\":0, \"Diciembre\":0}\n",
        "temperaturas_altas = {}\n",
        "\n",
        "for i in range(1,13):\n",
        "  valor_t = float(input(f\"Ingrese el valor de la temperatura en el mes {i}: \"))\n",
        "  temperaturas[temperaturas.keys()] = valor_t\n",
        "  i+=1\n",
        "promedio = sum(temperaturas.values()) / len(temperaturas)\n",
        "\n",
        "print(f\"El promedio de temperaturas fue de: {promedio} °C\")\n",
        "\n",
        ""
      ],
      "metadata": {
        "id": "DqApOsYcV6Zs"
      },
      "execution_count": null,
      "outputs": []
    },
    {
      "cell_type": "code",
      "source": [
        "temperaturas = []\n",
        "for i in range(0, 12):\n",
        "  valor_tem = float(input(f'Ingrese la temperatura promedio del mes {i}: '))\n",
        "  temperaturas.append(valor_tem)\n",
        "  i += 1\n",
        "\n",
        "temperaturas.sort(reverse=True)\n",
        "\n",
        "meses = ['Enero', 'Febrero', 'Marzo', 'Abril', 'Mayo', 'Junio', 'Julio', 'Agosto', 'Septiembre', 'Octubre', 'Noviembre', 'Diciembre']\n",
        "promedio = sum(temperaturas) / len(temperaturas)\n",
        "\n",
        "for i in range(0, 12):\n",
        "  if temperaturas[i] > promedio:\n",
        "    i += 1\n",
        "    print(f\"Meses con temperatura encima del promedio: \\n{meses[i]}\")"
      ],
      "metadata": {
        "id": "ilaU4WA7ZxCQ"
      },
      "execution_count": null,
      "outputs": []
    },
    {
      "cell_type": "code",
      "source": [
        "\n",
        "ventas = {'Producto A': 300, 'Producto B': 80, 'Producto C': 60, 'Producto D': 200, 'Producto E': 250, 'Producto F': 30}\n",
        "\n",
        "total = 0\n",
        "producto_mas_vendido = ''  # Almacenará el nombre del producto más vendido\n",
        "unidades_producto_mas_vendido = 0  # Almacenará la cantidad más alta de ventas\n",
        "\n",
        "# Recorremos las claves y elementos del diccionario\n",
        "for producto in ventas.keys():\n",
        "    total += ventas[producto]\n",
        "    #Si el valor de ventas del producto, supera las unidades más vendidas, tomará ese nuevo valor y el nombre del producto\n",
        "    if ventas[producto] > unidades_producto_mas_vendido:\n",
        "        unidades_producto_mas_vendido = ventas[producto]\n",
        "        producto_mas_vendido = producto\n",
        "\n",
        "# Resultados\n",
        "print(f'Total de ventas es {total}')\n",
        "print(f'{producto_mas_vendido} es el más vendido')\n"
      ],
      "metadata": {
        "id": "LGmuB9QjchRV"
      },
      "execution_count": null,
      "outputs": []
    },
    {
      "cell_type": "code",
      "source": [
        "disenos = {'Diseño 1': 1334, 'Diseño 2': 982, 'Diseño 3': 1751, 'Diseño 4': 410, 'Diseño 5': 1811}\n",
        "\n",
        "total_votos = 0\n",
        "ganador = ''\n",
        "votos_ganador = 0\n",
        "\n",
        "# Recorremos las claves y elementos del diccionario\n",
        "for diseno in disenos.keys():\n",
        "    total_votos += disenos[diseno]\n",
        "    #Si el valor de los votos del diseño x, supera los votos anteriores, tomará ese nuevo valor y el nombre del diseño\n",
        "    if disenos[diseno] > votos_ganador:\n",
        "        votos_ganador = disenos[diseno]\n",
        "        ganador = diseno\n",
        "\n",
        "porcentaje_ganador = float((votos_ganador / total_votos) * 100)\n",
        "\n",
        "# Resultados\n",
        "print(f'Total de votos es {total_votos}')\n",
        "print(f'El diseño ganador es el: {ganador} con un {porcentaje_ganador} % del total de votos')"
      ],
      "metadata": {
        "id": "-yhurY-fe0UL"
      },
      "execution_count": null,
      "outputs": []
    },
    {
      "cell_type": "code",
      "source": [
        "salarios = [1172, 1644, 2617, 5130, 5532, 6341, 6650, 7238, 7685, 7782, 7903]\n",
        "diccionario_abonos = {}\n",
        "total_abono = 0\n",
        "abonos_minimo = 0\n",
        "mayor_abono = 0\n",
        "\n",
        "# Recorremos toda la lista de salarios\n",
        "for salario in salarios:\n",
        "    abono = salario * 0.1\n",
        "    # Si el abono es inferior a 200, ajustamos el valor del abono al mínimo (200)\n",
        "    if abono < 200:\n",
        "        abono = 200\n",
        "    diccionario_abonos[salario] = abono\n",
        "\n",
        "# Recorremos todos los valores del diccionario de abonos\n",
        "for abono in diccionario_abonos.values():\n",
        "    if abono == 200:\n",
        "        abonos_minimo += 1\n",
        "    # Verificamos si el abono leído es mayor que el valor almacenado en mayor_abono\n",
        "    # Cada vez que el abono supere el valor de mayor_abono, la variable mayor_abono será igual al abono\n",
        "    if abono > mayor_abono:\n",
        "        mayor_abono = abono\n",
        "    total_abono += abono\n",
        "\n",
        "# Resultados\n",
        "print(f'Abonos: {diccionario_abonos}')\n",
        "print(f'Total de gastos en abonos: {total_abono}')\n",
        "print(f'Número de empleados que recibieron el abono mínimo: {abonos_minimo}')\n",
        "print(f'Mayor valor de abono: {mayor_abono}')"
      ],
      "metadata": {
        "id": "1YJXJe6AjE-v"
      },
      "execution_count": null,
      "outputs": []
    },
    {
      "cell_type": "code",
      "source": [
        "datos = {'Área Norte': [2819, 7236],\n",
        "         'Área Este': [1440, 9492],\n",
        "         'Área Sur': [5969, 7496],\n",
        "         'Área Oeste': [14446, 49688],\n",
        "         'Área Centro': [22558, 45148]}\n",
        "\n",
        "suma_media = 0\n",
        "mayor_diversidad = ''\n",
        "mayor_suma = 0\n",
        "# Recorremos las claves y elementos del diccionario\n",
        "for área, especies in datos.items():\n",
        "    suma_especies = sum(especies)\n",
        "    media = suma_especies / len(especies)\n",
        "    print(f'El {área} tiene un promedio de {media} especies')\n",
        "\n",
        "    '''Verificamos si la suma de especies es mayor que el valor almacenado de mayor_suma\n",
        "Cada vez que suma_especies supere el valor de mayor_suma,\n",
        "la variable mayor_suma será igual a suma_especies, asignando un nuevo valor\n",
        "De manera similar, mayor_diversidad también se actualiza '''\n",
        "\n",
        "    if suma_especies > mayor_suma:\n",
        "        mayor_suma = suma_especies\n",
        "        mayor_diversidad = área\n",
        "\n",
        "    suma_media += media\n",
        "\n",
        "\n",
        "media_total = suma_media / len(datos)\n",
        "print(f'Media general de especies: {media_total}')\n",
        "print(f'Área con la mayor diversidad biológica: {mayor_diversidad}')"
      ],
      "metadata": {
        "id": "nwbMNsb8k1om"
      },
      "execution_count": null,
      "outputs": []
    },
    {
      "cell_type": "code",
      "source": [
        "edad = {'Sector A': [22, 26, 30, 30, 35, 38, 40, 56, 57, 65],\n",
        "         'Sector B': [22, 24, 26, 33, 41, 49, 50, 54, 60, 64],\n",
        "         'Sector C': [23, 26, 26, 29, 34, 35, 36, 41, 52, 56],\n",
        "         'Sector D': [19, 20, 25, 27, 34, 39, 42, 44, 50, 65]}\n",
        "\n",
        "media_sector = 0\n",
        "suma_medias = 0\n",
        "personas_encima = 0\n",
        "\n",
        "# Recorremos las claves y elementos del diccionario\n",
        "for sector, edades in edad.items():\n",
        "    suma_edades = sum(edades)\n",
        "    media_sector = suma_edades / len(edades)\n",
        "    print(f'El {sector} tiene un promedio de {media_sector} edades')\n",
        "\n",
        "    suma_medias += media_sector\n",
        "    media_total = float(suma_medias / len(edad))\n",
        "\n",
        "print(f'Media general de edades: {media_total}')\n",
        "\n",
        "for sector, edades in edad.items():\n",
        "  for edad in edades:\n",
        "        if edad > media_total:\n",
        "          personas_encima += 1\n",
        "\n",
        "print(f\"El número de personas por encima de la media es: {personas_encima}\")"
      ],
      "metadata": {
        "colab": {
          "base_uri": "https://localhost:8080/"
        },
        "id": "LBc6xhcvl7i0",
        "outputId": "5fa984ea-3475-477e-8a58-26d0bb1df182"
      },
      "execution_count": 65,
      "outputs": [
        {
          "output_type": "stream",
          "name": "stdout",
          "text": [
            "El Sector A tiene un promedio de 39.9 edades\n",
            "El Sector B tiene un promedio de 42.3 edades\n",
            "El Sector C tiene un promedio de 35.8 edades\n",
            "El Sector D tiene un promedio de 36.5 edades\n",
            "Media general de edades: 38.625\n",
            "El número de personas por encima de la media es: 18\n"
          ]
        }
      ]
    }
  ]
}